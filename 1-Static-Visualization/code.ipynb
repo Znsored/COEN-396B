{
  "nbformat": 4,
  "nbformat_minor": 0,
  "metadata": {
    "colab": {
      "provenance": [],
      "authorship_tag": "ABX9TyOD1drWkX/SXj20L9Plp37b",
      "include_colab_link": true
    },
    "kernelspec": {
      "name": "python3",
      "display_name": "Python 3"
    },
    "language_info": {
      "name": "python"
    }
  },
  "cells": [
    {
      "cell_type": "markdown",
      "metadata": {
        "id": "view-in-github",
        "colab_type": "text"
      },
      "source": [
        "<a href=\"https://colab.research.google.com/github/Znsored/COEN-396B/blob/main/static_visualization.ipynb\" target=\"_parent\"><img src=\"https://colab.research.google.com/assets/colab-badge.svg\" alt=\"Open In Colab\"/></a>"
      ]
    },
    {
      "cell_type": "markdown",
      "source": [
        "\n",
        "## **0. Loading the Data from CSV file**\n",
        "\n"
      ],
      "metadata": {
        "id": "lLO83JP1Zoz4"
      }
    },
    {
      "cell_type": "code",
      "execution_count": 1,
      "metadata": {
        "colab": {
          "base_uri": "https://localhost:8080/",
          "height": 73
        },
        "id": "KuqL8XchZlSH",
        "outputId": "7f94eeb6-a77f-48a8-c71b-9c86edea3616"
      },
      "outputs": [
        {
          "output_type": "display_data",
          "data": {
            "text/plain": [
              "<IPython.core.display.HTML object>"
            ],
            "text/html": [
              "\n",
              "     <input type=\"file\" id=\"files-2ab531b7-6cf3-42fb-8352-42708824d825\" name=\"files[]\" multiple disabled\n",
              "        style=\"border:none\" />\n",
              "     <output id=\"result-2ab531b7-6cf3-42fb-8352-42708824d825\">\n",
              "      Upload widget is only available when the cell has been executed in the\n",
              "      current browser session. Please rerun this cell to enable.\n",
              "      </output>\n",
              "      <script>// Copyright 2017 Google LLC\n",
              "//\n",
              "// Licensed under the Apache License, Version 2.0 (the \"License\");\n",
              "// you may not use this file except in compliance with the License.\n",
              "// You may obtain a copy of the License at\n",
              "//\n",
              "//      http://www.apache.org/licenses/LICENSE-2.0\n",
              "//\n",
              "// Unless required by applicable law or agreed to in writing, software\n",
              "// distributed under the License is distributed on an \"AS IS\" BASIS,\n",
              "// WITHOUT WARRANTIES OR CONDITIONS OF ANY KIND, either express or implied.\n",
              "// See the License for the specific language governing permissions and\n",
              "// limitations under the License.\n",
              "\n",
              "/**\n",
              " * @fileoverview Helpers for google.colab Python module.\n",
              " */\n",
              "(function(scope) {\n",
              "function span(text, styleAttributes = {}) {\n",
              "  const element = document.createElement('span');\n",
              "  element.textContent = text;\n",
              "  for (const key of Object.keys(styleAttributes)) {\n",
              "    element.style[key] = styleAttributes[key];\n",
              "  }\n",
              "  return element;\n",
              "}\n",
              "\n",
              "// Max number of bytes which will be uploaded at a time.\n",
              "const MAX_PAYLOAD_SIZE = 100 * 1024;\n",
              "\n",
              "function _uploadFiles(inputId, outputId) {\n",
              "  const steps = uploadFilesStep(inputId, outputId);\n",
              "  const outputElement = document.getElementById(outputId);\n",
              "  // Cache steps on the outputElement to make it available for the next call\n",
              "  // to uploadFilesContinue from Python.\n",
              "  outputElement.steps = steps;\n",
              "\n",
              "  return _uploadFilesContinue(outputId);\n",
              "}\n",
              "\n",
              "// This is roughly an async generator (not supported in the browser yet),\n",
              "// where there are multiple asynchronous steps and the Python side is going\n",
              "// to poll for completion of each step.\n",
              "// This uses a Promise to block the python side on completion of each step,\n",
              "// then passes the result of the previous step as the input to the next step.\n",
              "function _uploadFilesContinue(outputId) {\n",
              "  const outputElement = document.getElementById(outputId);\n",
              "  const steps = outputElement.steps;\n",
              "\n",
              "  const next = steps.next(outputElement.lastPromiseValue);\n",
              "  return Promise.resolve(next.value.promise).then((value) => {\n",
              "    // Cache the last promise value to make it available to the next\n",
              "    // step of the generator.\n",
              "    outputElement.lastPromiseValue = value;\n",
              "    return next.value.response;\n",
              "  });\n",
              "}\n",
              "\n",
              "/**\n",
              " * Generator function which is called between each async step of the upload\n",
              " * process.\n",
              " * @param {string} inputId Element ID of the input file picker element.\n",
              " * @param {string} outputId Element ID of the output display.\n",
              " * @return {!Iterable<!Object>} Iterable of next steps.\n",
              " */\n",
              "function* uploadFilesStep(inputId, outputId) {\n",
              "  const inputElement = document.getElementById(inputId);\n",
              "  inputElement.disabled = false;\n",
              "\n",
              "  const outputElement = document.getElementById(outputId);\n",
              "  outputElement.innerHTML = '';\n",
              "\n",
              "  const pickedPromise = new Promise((resolve) => {\n",
              "    inputElement.addEventListener('change', (e) => {\n",
              "      resolve(e.target.files);\n",
              "    });\n",
              "  });\n",
              "\n",
              "  const cancel = document.createElement('button');\n",
              "  inputElement.parentElement.appendChild(cancel);\n",
              "  cancel.textContent = 'Cancel upload';\n",
              "  const cancelPromise = new Promise((resolve) => {\n",
              "    cancel.onclick = () => {\n",
              "      resolve(null);\n",
              "    };\n",
              "  });\n",
              "\n",
              "  // Wait for the user to pick the files.\n",
              "  const files = yield {\n",
              "    promise: Promise.race([pickedPromise, cancelPromise]),\n",
              "    response: {\n",
              "      action: 'starting',\n",
              "    }\n",
              "  };\n",
              "\n",
              "  cancel.remove();\n",
              "\n",
              "  // Disable the input element since further picks are not allowed.\n",
              "  inputElement.disabled = true;\n",
              "\n",
              "  if (!files) {\n",
              "    return {\n",
              "      response: {\n",
              "        action: 'complete',\n",
              "      }\n",
              "    };\n",
              "  }\n",
              "\n",
              "  for (const file of files) {\n",
              "    const li = document.createElement('li');\n",
              "    li.append(span(file.name, {fontWeight: 'bold'}));\n",
              "    li.append(span(\n",
              "        `(${file.type || 'n/a'}) - ${file.size} bytes, ` +\n",
              "        `last modified: ${\n",
              "            file.lastModifiedDate ? file.lastModifiedDate.toLocaleDateString() :\n",
              "                                    'n/a'} - `));\n",
              "    const percent = span('0% done');\n",
              "    li.appendChild(percent);\n",
              "\n",
              "    outputElement.appendChild(li);\n",
              "\n",
              "    const fileDataPromise = new Promise((resolve) => {\n",
              "      const reader = new FileReader();\n",
              "      reader.onload = (e) => {\n",
              "        resolve(e.target.result);\n",
              "      };\n",
              "      reader.readAsArrayBuffer(file);\n",
              "    });\n",
              "    // Wait for the data to be ready.\n",
              "    let fileData = yield {\n",
              "      promise: fileDataPromise,\n",
              "      response: {\n",
              "        action: 'continue',\n",
              "      }\n",
              "    };\n",
              "\n",
              "    // Use a chunked sending to avoid message size limits. See b/62115660.\n",
              "    let position = 0;\n",
              "    do {\n",
              "      const length = Math.min(fileData.byteLength - position, MAX_PAYLOAD_SIZE);\n",
              "      const chunk = new Uint8Array(fileData, position, length);\n",
              "      position += length;\n",
              "\n",
              "      const base64 = btoa(String.fromCharCode.apply(null, chunk));\n",
              "      yield {\n",
              "        response: {\n",
              "          action: 'append',\n",
              "          file: file.name,\n",
              "          data: base64,\n",
              "        },\n",
              "      };\n",
              "\n",
              "      let percentDone = fileData.byteLength === 0 ?\n",
              "          100 :\n",
              "          Math.round((position / fileData.byteLength) * 100);\n",
              "      percent.textContent = `${percentDone}% done`;\n",
              "\n",
              "    } while (position < fileData.byteLength);\n",
              "  }\n",
              "\n",
              "  // All done.\n",
              "  yield {\n",
              "    response: {\n",
              "      action: 'complete',\n",
              "    }\n",
              "  };\n",
              "}\n",
              "\n",
              "scope.google = scope.google || {};\n",
              "scope.google.colab = scope.google.colab || {};\n",
              "scope.google.colab._files = {\n",
              "  _uploadFiles,\n",
              "  _uploadFilesContinue,\n",
              "};\n",
              "})(self);\n",
              "</script> "
            ]
          },
          "metadata": {}
        },
        {
          "output_type": "stream",
          "name": "stdout",
          "text": [
            "Saving assign1_wastedata1.csv to assign1_wastedata1.csv\n"
          ]
        }
      ],
      "source": [
        "from google.colab import files\n",
        "uploaded = files.upload()"
      ]
    },
    {
      "cell_type": "code",
      "source": [
        "import io\n",
        "import pandas as pd\n",
        "df = pd.read_csv(io.BytesIO(uploaded['assign1_wastedata1.csv']))"
      ],
      "metadata": {
        "id": "1u2UFG9XZz4N"
      },
      "execution_count": 2,
      "outputs": []
    },
    {
      "cell_type": "markdown",
      "source": [
        "## **1. Exploratory Data Analysis**"
      ],
      "metadata": {
        "id": "famIKBA0R7oo"
      }
    },
    {
      "cell_type": "code",
      "source": [
        "df.shape"
      ],
      "metadata": {
        "colab": {
          "base_uri": "https://localhost:8080/"
        },
        "id": "wek_LDy9-0cg",
        "outputId": "c940173e-0fb5-4484-dbad-7130e21251c0"
      },
      "execution_count": 3,
      "outputs": [
        {
          "output_type": "execute_result",
          "data": {
            "text/plain": [
              "(237, 6)"
            ]
          },
          "metadata": {},
          "execution_count": 3
        }
      ]
    },
    {
      "cell_type": "code",
      "source": [
        "df.info()"
      ],
      "metadata": {
        "colab": {
          "base_uri": "https://localhost:8080/"
        },
        "id": "v-1MgaFiaGbR",
        "outputId": "dcb5b007-f573-4e8c-e308-a86bc069c2bd"
      },
      "execution_count": 4,
      "outputs": [
        {
          "output_type": "stream",
          "name": "stdout",
          "text": [
            "<class 'pandas.core.frame.DataFrame'>\n",
            "RangeIndex: 237 entries, 0 to 236\n",
            "Data columns (total 6 columns):\n",
            " #   Column     Non-Null Count  Dtype  \n",
            "---  ------     --------------  -----  \n",
            " 0   Data Year  237 non-null    int64  \n",
            " 1   Date       237 non-null    object \n",
            " 2   Building   237 non-null    object \n",
            " 3   Stream     237 non-null    object \n",
            " 4   Weight     237 non-null    float64\n",
            " 5   Notes      153 non-null    object \n",
            "dtypes: float64(1), int64(1), object(4)\n",
            "memory usage: 11.2+ KB\n"
          ]
        }
      ]
    },
    {
      "cell_type": "code",
      "source": [
        "df.head()"
      ],
      "metadata": {
        "colab": {
          "base_uri": "https://localhost:8080/",
          "height": 206
        },
        "id": "LYI4RMT7aJP4",
        "outputId": "a56e436a-ce2b-4fb4-cc05-26e921e6323e"
      },
      "execution_count": 5,
      "outputs": [
        {
          "output_type": "execute_result",
          "data": {
            "text/plain": [
              "   Data Year      Date Building                  Stream  Weight  \\\n",
              "0       2018  2/8/2019     Swig                Landfill     0.3   \n",
              "1       2018  2/8/2019     Swig     Compost in Landfill     0.5   \n",
              "2       2018  2/8/2019     Swig   Recycling in Landfill     0.1   \n",
              "3       2018  2/8/2019     Swig  Food Waste in Landfill     0.1   \n",
              "4       2018  2/8/2019     Swig  Food Waste in Landfill     5.7   \n",
              "\n",
              "                    Notes  \n",
              "0           food wrappers  \n",
              "1         food containers  \n",
              "2             mail, paper  \n",
              "3  chicken nuggets, bread  \n",
              "4      fruits and veggies  "
            ],
            "text/html": [
              "\n",
              "  <div id=\"df-e5879f52-9f1a-40cf-8cee-0caf46c26d5f\">\n",
              "    <div class=\"colab-df-container\">\n",
              "      <div>\n",
              "<style scoped>\n",
              "    .dataframe tbody tr th:only-of-type {\n",
              "        vertical-align: middle;\n",
              "    }\n",
              "\n",
              "    .dataframe tbody tr th {\n",
              "        vertical-align: top;\n",
              "    }\n",
              "\n",
              "    .dataframe thead th {\n",
              "        text-align: right;\n",
              "    }\n",
              "</style>\n",
              "<table border=\"1\" class=\"dataframe\">\n",
              "  <thead>\n",
              "    <tr style=\"text-align: right;\">\n",
              "      <th></th>\n",
              "      <th>Data Year</th>\n",
              "      <th>Date</th>\n",
              "      <th>Building</th>\n",
              "      <th>Stream</th>\n",
              "      <th>Weight</th>\n",
              "      <th>Notes</th>\n",
              "    </tr>\n",
              "  </thead>\n",
              "  <tbody>\n",
              "    <tr>\n",
              "      <th>0</th>\n",
              "      <td>2018</td>\n",
              "      <td>2/8/2019</td>\n",
              "      <td>Swig</td>\n",
              "      <td>Landfill</td>\n",
              "      <td>0.3</td>\n",
              "      <td>food wrappers</td>\n",
              "    </tr>\n",
              "    <tr>\n",
              "      <th>1</th>\n",
              "      <td>2018</td>\n",
              "      <td>2/8/2019</td>\n",
              "      <td>Swig</td>\n",
              "      <td>Compost in Landfill</td>\n",
              "      <td>0.5</td>\n",
              "      <td>food containers</td>\n",
              "    </tr>\n",
              "    <tr>\n",
              "      <th>2</th>\n",
              "      <td>2018</td>\n",
              "      <td>2/8/2019</td>\n",
              "      <td>Swig</td>\n",
              "      <td>Recycling in Landfill</td>\n",
              "      <td>0.1</td>\n",
              "      <td>mail, paper</td>\n",
              "    </tr>\n",
              "    <tr>\n",
              "      <th>3</th>\n",
              "      <td>2018</td>\n",
              "      <td>2/8/2019</td>\n",
              "      <td>Swig</td>\n",
              "      <td>Food Waste in Landfill</td>\n",
              "      <td>0.1</td>\n",
              "      <td>chicken nuggets, bread</td>\n",
              "    </tr>\n",
              "    <tr>\n",
              "      <th>4</th>\n",
              "      <td>2018</td>\n",
              "      <td>2/8/2019</td>\n",
              "      <td>Swig</td>\n",
              "      <td>Food Waste in Landfill</td>\n",
              "      <td>5.7</td>\n",
              "      <td>fruits and veggies</td>\n",
              "    </tr>\n",
              "  </tbody>\n",
              "</table>\n",
              "</div>\n",
              "      <button class=\"colab-df-convert\" onclick=\"convertToInteractive('df-e5879f52-9f1a-40cf-8cee-0caf46c26d5f')\"\n",
              "              title=\"Convert this dataframe to an interactive table.\"\n",
              "              style=\"display:none;\">\n",
              "        \n",
              "  <svg xmlns=\"http://www.w3.org/2000/svg\" height=\"24px\"viewBox=\"0 0 24 24\"\n",
              "       width=\"24px\">\n",
              "    <path d=\"M0 0h24v24H0V0z\" fill=\"none\"/>\n",
              "    <path d=\"M18.56 5.44l.94 2.06.94-2.06 2.06-.94-2.06-.94-.94-2.06-.94 2.06-2.06.94zm-11 1L8.5 8.5l.94-2.06 2.06-.94-2.06-.94L8.5 2.5l-.94 2.06-2.06.94zm10 10l.94 2.06.94-2.06 2.06-.94-2.06-.94-.94-2.06-.94 2.06-2.06.94z\"/><path d=\"M17.41 7.96l-1.37-1.37c-.4-.4-.92-.59-1.43-.59-.52 0-1.04.2-1.43.59L10.3 9.45l-7.72 7.72c-.78.78-.78 2.05 0 2.83L4 21.41c.39.39.9.59 1.41.59.51 0 1.02-.2 1.41-.59l7.78-7.78 2.81-2.81c.8-.78.8-2.07 0-2.86zM5.41 20L4 18.59l7.72-7.72 1.47 1.35L5.41 20z\"/>\n",
              "  </svg>\n",
              "      </button>\n",
              "      \n",
              "  <style>\n",
              "    .colab-df-container {\n",
              "      display:flex;\n",
              "      flex-wrap:wrap;\n",
              "      gap: 12px;\n",
              "    }\n",
              "\n",
              "    .colab-df-convert {\n",
              "      background-color: #E8F0FE;\n",
              "      border: none;\n",
              "      border-radius: 50%;\n",
              "      cursor: pointer;\n",
              "      display: none;\n",
              "      fill: #1967D2;\n",
              "      height: 32px;\n",
              "      padding: 0 0 0 0;\n",
              "      width: 32px;\n",
              "    }\n",
              "\n",
              "    .colab-df-convert:hover {\n",
              "      background-color: #E2EBFA;\n",
              "      box-shadow: 0px 1px 2px rgba(60, 64, 67, 0.3), 0px 1px 3px 1px rgba(60, 64, 67, 0.15);\n",
              "      fill: #174EA6;\n",
              "    }\n",
              "\n",
              "    [theme=dark] .colab-df-convert {\n",
              "      background-color: #3B4455;\n",
              "      fill: #D2E3FC;\n",
              "    }\n",
              "\n",
              "    [theme=dark] .colab-df-convert:hover {\n",
              "      background-color: #434B5C;\n",
              "      box-shadow: 0px 1px 3px 1px rgba(0, 0, 0, 0.15);\n",
              "      filter: drop-shadow(0px 1px 2px rgba(0, 0, 0, 0.3));\n",
              "      fill: #FFFFFF;\n",
              "    }\n",
              "  </style>\n",
              "\n",
              "      <script>\n",
              "        const buttonEl =\n",
              "          document.querySelector('#df-e5879f52-9f1a-40cf-8cee-0caf46c26d5f button.colab-df-convert');\n",
              "        buttonEl.style.display =\n",
              "          google.colab.kernel.accessAllowed ? 'block' : 'none';\n",
              "\n",
              "        async function convertToInteractive(key) {\n",
              "          const element = document.querySelector('#df-e5879f52-9f1a-40cf-8cee-0caf46c26d5f');\n",
              "          const dataTable =\n",
              "            await google.colab.kernel.invokeFunction('convertToInteractive',\n",
              "                                                     [key], {});\n",
              "          if (!dataTable) return;\n",
              "\n",
              "          const docLinkHtml = 'Like what you see? Visit the ' +\n",
              "            '<a target=\"_blank\" href=https://colab.research.google.com/notebooks/data_table.ipynb>data table notebook</a>'\n",
              "            + ' to learn more about interactive tables.';\n",
              "          element.innerHTML = '';\n",
              "          dataTable['output_type'] = 'display_data';\n",
              "          await google.colab.output.renderOutput(dataTable, element);\n",
              "          const docLink = document.createElement('div');\n",
              "          docLink.innerHTML = docLinkHtml;\n",
              "          element.appendChild(docLink);\n",
              "        }\n",
              "      </script>\n",
              "    </div>\n",
              "  </div>\n",
              "  "
            ]
          },
          "metadata": {},
          "execution_count": 5
        }
      ]
    },
    {
      "cell_type": "code",
      "source": [
        "df.isnull().sum()"
      ],
      "metadata": {
        "colab": {
          "base_uri": "https://localhost:8080/"
        },
        "id": "qWgPrMVgaLpW",
        "outputId": "bdc28126-c8e3-4b8d-9411-12c2e3a29ad9"
      },
      "execution_count": 6,
      "outputs": [
        {
          "output_type": "execute_result",
          "data": {
            "text/plain": [
              "Data Year     0\n",
              "Date          0\n",
              "Building      0\n",
              "Stream        0\n",
              "Weight        0\n",
              "Notes        84\n",
              "dtype: int64"
            ]
          },
          "metadata": {},
          "execution_count": 6
        }
      ]
    },
    {
      "cell_type": "code",
      "source": [
        "df.groupby('Building')['Weight'].sum()"
      ],
      "metadata": {
        "colab": {
          "base_uri": "https://localhost:8080/"
        },
        "id": "GJs4JyvSa_jl",
        "outputId": "b88b499c-b243-4dc5-b2b1-7f187646cc3b"
      },
      "execution_count": 7,
      "outputs": [
        {
          "output_type": "execute_result",
          "data": {
            "text/plain": [
              "Building\n",
              "Campisi     36.7\n",
              "Dunne       34.1\n",
              "Graham     648.0\n",
              "McWalsh     66.9\n",
              "Swig       380.1\n",
              "Name: Weight, dtype: float64"
            ]
          },
          "metadata": {},
          "execution_count": 7
        }
      ]
    },
    {
      "cell_type": "code",
      "source": [
        "df.groupby(['Building','Stream'])['Weight'].sum()"
      ],
      "metadata": {
        "colab": {
          "base_uri": "https://localhost:8080/"
        },
        "id": "3rq4CrBqcbEF",
        "outputId": "3bdf4a79-39d9-4c73-b141-e738a087494b"
      },
      "execution_count": 8,
      "outputs": [
        {
          "output_type": "execute_result",
          "data": {
            "text/plain": [
              "Building  Stream                 \n",
              "Campisi   Compost                      2.6\n",
              "          Compost in Landfill          1.0\n",
              "          Compost in Recycling         0.8\n",
              "          Food Waste in Compost        7.1\n",
              "          Food Waste in Landfill       2.7\n",
              "          Landfill                     2.7\n",
              "          Landfill in Recycling        0.5\n",
              "          Recycling                   15.0\n",
              "          Recycling in Compost         2.4\n",
              "          Recycling in Landfill        1.9\n",
              "Dunne     Compost                      2.9\n",
              "          Compost in Landfill          3.3\n",
              "          Compost in Recycling         3.4\n",
              "          Food Waste in Compost        6.0\n",
              "          Food Waste in Landfill       2.4\n",
              "          Food Waste in Recycling      0.5\n",
              "          Landfill                     2.8\n",
              "          Landfill in Recycling        1.8\n",
              "          Recycling                    9.9\n",
              "          Recycling in Landfill        1.1\n",
              "Graham    Compost                    117.0\n",
              "          Compost in Landfill         41.4\n",
              "          Compost in Recycling        21.5\n",
              "          Food Waste in Compost      138.8\n",
              "          Food Waste in Landfill      88.0\n",
              "          Food Waste in Recycling      7.8\n",
              "          Landfill                    63.7\n",
              "          Landfill in Compost         20.3\n",
              "          Landfill in Recycling       16.8\n",
              "          Recycling                   84.5\n",
              "          Recycling in Compost        22.5\n",
              "          Recycling in Landfill       25.7\n",
              "McWalsh   Compost                     14.0\n",
              "          Compost in Landfill          3.7\n",
              "          Compost in Recycling         2.6\n",
              "          Food Waste in Compost       12.8\n",
              "          Food Waste in Landfill      10.7\n",
              "          Food Waste in Recycling      1.4\n",
              "          Landfill                     4.0\n",
              "          Landfill in Recycling        1.5\n",
              "          Recycling                   11.0\n",
              "          Recycling in Compost         0.5\n",
              "          Recycling in Landfill        4.7\n",
              "Swig      Compost                     62.0\n",
              "          Compost in Landfill         20.6\n",
              "          Compost in Recycling        11.8\n",
              "          Food Waste in Compost       75.2\n",
              "          Food Waste in Landfill      56.0\n",
              "          Food Waste in Recycling     11.5\n",
              "          Landfill                    29.5\n",
              "          Landfill in Compost          9.6\n",
              "          Landfill in Recycling        5.5\n",
              "          Recycling                   70.9\n",
              "          Recycling in Compost         8.9\n",
              "          Recycling in Landfill       16.6\n",
              "          Reusables in Landfill        2.0\n",
              "Name: Weight, dtype: float64"
            ]
          },
          "metadata": {},
          "execution_count": 8
        }
      ]
    },
    {
      "cell_type": "code",
      "source": [
        "df.drop(['Date','Notes'],axis=1)"
      ],
      "metadata": {
        "colab": {
          "base_uri": "https://localhost:8080/",
          "height": 424
        },
        "id": "nc_Nl0XCcjtZ",
        "outputId": "ae94115b-b605-4453-a1d7-65e4a2a85196"
      },
      "execution_count": 9,
      "outputs": [
        {
          "output_type": "execute_result",
          "data": {
            "text/plain": [
              "     Data Year Building                  Stream  Weight\n",
              "0         2018     Swig                Landfill     0.3\n",
              "1         2018     Swig     Compost in Landfill     0.5\n",
              "2         2018     Swig   Recycling in Landfill     0.1\n",
              "3         2018     Swig  Food Waste in Landfill     0.1\n",
              "4         2018     Swig  Food Waste in Landfill     5.7\n",
              "..         ...      ...                     ...     ...\n",
              "232       2020   Graham    Recycling in Compost     2.1\n",
              "233       2020   Graham  Food Waste in Landfill    24.3\n",
              "234       2020   Graham                Landfill    14.8\n",
              "235       2020   Graham     Compost in Landfill    10.8\n",
              "236       2020   Graham   Recycling in Landfill     6.6\n",
              "\n",
              "[237 rows x 4 columns]"
            ],
            "text/html": [
              "\n",
              "  <div id=\"df-178e004d-3f05-4c9b-b248-257f98055eae\">\n",
              "    <div class=\"colab-df-container\">\n",
              "      <div>\n",
              "<style scoped>\n",
              "    .dataframe tbody tr th:only-of-type {\n",
              "        vertical-align: middle;\n",
              "    }\n",
              "\n",
              "    .dataframe tbody tr th {\n",
              "        vertical-align: top;\n",
              "    }\n",
              "\n",
              "    .dataframe thead th {\n",
              "        text-align: right;\n",
              "    }\n",
              "</style>\n",
              "<table border=\"1\" class=\"dataframe\">\n",
              "  <thead>\n",
              "    <tr style=\"text-align: right;\">\n",
              "      <th></th>\n",
              "      <th>Data Year</th>\n",
              "      <th>Building</th>\n",
              "      <th>Stream</th>\n",
              "      <th>Weight</th>\n",
              "    </tr>\n",
              "  </thead>\n",
              "  <tbody>\n",
              "    <tr>\n",
              "      <th>0</th>\n",
              "      <td>2018</td>\n",
              "      <td>Swig</td>\n",
              "      <td>Landfill</td>\n",
              "      <td>0.3</td>\n",
              "    </tr>\n",
              "    <tr>\n",
              "      <th>1</th>\n",
              "      <td>2018</td>\n",
              "      <td>Swig</td>\n",
              "      <td>Compost in Landfill</td>\n",
              "      <td>0.5</td>\n",
              "    </tr>\n",
              "    <tr>\n",
              "      <th>2</th>\n",
              "      <td>2018</td>\n",
              "      <td>Swig</td>\n",
              "      <td>Recycling in Landfill</td>\n",
              "      <td>0.1</td>\n",
              "    </tr>\n",
              "    <tr>\n",
              "      <th>3</th>\n",
              "      <td>2018</td>\n",
              "      <td>Swig</td>\n",
              "      <td>Food Waste in Landfill</td>\n",
              "      <td>0.1</td>\n",
              "    </tr>\n",
              "    <tr>\n",
              "      <th>4</th>\n",
              "      <td>2018</td>\n",
              "      <td>Swig</td>\n",
              "      <td>Food Waste in Landfill</td>\n",
              "      <td>5.7</td>\n",
              "    </tr>\n",
              "    <tr>\n",
              "      <th>...</th>\n",
              "      <td>...</td>\n",
              "      <td>...</td>\n",
              "      <td>...</td>\n",
              "      <td>...</td>\n",
              "    </tr>\n",
              "    <tr>\n",
              "      <th>232</th>\n",
              "      <td>2020</td>\n",
              "      <td>Graham</td>\n",
              "      <td>Recycling in Compost</td>\n",
              "      <td>2.1</td>\n",
              "    </tr>\n",
              "    <tr>\n",
              "      <th>233</th>\n",
              "      <td>2020</td>\n",
              "      <td>Graham</td>\n",
              "      <td>Food Waste in Landfill</td>\n",
              "      <td>24.3</td>\n",
              "    </tr>\n",
              "    <tr>\n",
              "      <th>234</th>\n",
              "      <td>2020</td>\n",
              "      <td>Graham</td>\n",
              "      <td>Landfill</td>\n",
              "      <td>14.8</td>\n",
              "    </tr>\n",
              "    <tr>\n",
              "      <th>235</th>\n",
              "      <td>2020</td>\n",
              "      <td>Graham</td>\n",
              "      <td>Compost in Landfill</td>\n",
              "      <td>10.8</td>\n",
              "    </tr>\n",
              "    <tr>\n",
              "      <th>236</th>\n",
              "      <td>2020</td>\n",
              "      <td>Graham</td>\n",
              "      <td>Recycling in Landfill</td>\n",
              "      <td>6.6</td>\n",
              "    </tr>\n",
              "  </tbody>\n",
              "</table>\n",
              "<p>237 rows × 4 columns</p>\n",
              "</div>\n",
              "      <button class=\"colab-df-convert\" onclick=\"convertToInteractive('df-178e004d-3f05-4c9b-b248-257f98055eae')\"\n",
              "              title=\"Convert this dataframe to an interactive table.\"\n",
              "              style=\"display:none;\">\n",
              "        \n",
              "  <svg xmlns=\"http://www.w3.org/2000/svg\" height=\"24px\"viewBox=\"0 0 24 24\"\n",
              "       width=\"24px\">\n",
              "    <path d=\"M0 0h24v24H0V0z\" fill=\"none\"/>\n",
              "    <path d=\"M18.56 5.44l.94 2.06.94-2.06 2.06-.94-2.06-.94-.94-2.06-.94 2.06-2.06.94zm-11 1L8.5 8.5l.94-2.06 2.06-.94-2.06-.94L8.5 2.5l-.94 2.06-2.06.94zm10 10l.94 2.06.94-2.06 2.06-.94-2.06-.94-.94-2.06-.94 2.06-2.06.94z\"/><path d=\"M17.41 7.96l-1.37-1.37c-.4-.4-.92-.59-1.43-.59-.52 0-1.04.2-1.43.59L10.3 9.45l-7.72 7.72c-.78.78-.78 2.05 0 2.83L4 21.41c.39.39.9.59 1.41.59.51 0 1.02-.2 1.41-.59l7.78-7.78 2.81-2.81c.8-.78.8-2.07 0-2.86zM5.41 20L4 18.59l7.72-7.72 1.47 1.35L5.41 20z\"/>\n",
              "  </svg>\n",
              "      </button>\n",
              "      \n",
              "  <style>\n",
              "    .colab-df-container {\n",
              "      display:flex;\n",
              "      flex-wrap:wrap;\n",
              "      gap: 12px;\n",
              "    }\n",
              "\n",
              "    .colab-df-convert {\n",
              "      background-color: #E8F0FE;\n",
              "      border: none;\n",
              "      border-radius: 50%;\n",
              "      cursor: pointer;\n",
              "      display: none;\n",
              "      fill: #1967D2;\n",
              "      height: 32px;\n",
              "      padding: 0 0 0 0;\n",
              "      width: 32px;\n",
              "    }\n",
              "\n",
              "    .colab-df-convert:hover {\n",
              "      background-color: #E2EBFA;\n",
              "      box-shadow: 0px 1px 2px rgba(60, 64, 67, 0.3), 0px 1px 3px 1px rgba(60, 64, 67, 0.15);\n",
              "      fill: #174EA6;\n",
              "    }\n",
              "\n",
              "    [theme=dark] .colab-df-convert {\n",
              "      background-color: #3B4455;\n",
              "      fill: #D2E3FC;\n",
              "    }\n",
              "\n",
              "    [theme=dark] .colab-df-convert:hover {\n",
              "      background-color: #434B5C;\n",
              "      box-shadow: 0px 1px 3px 1px rgba(0, 0, 0, 0.15);\n",
              "      filter: drop-shadow(0px 1px 2px rgba(0, 0, 0, 0.3));\n",
              "      fill: #FFFFFF;\n",
              "    }\n",
              "  </style>\n",
              "\n",
              "      <script>\n",
              "        const buttonEl =\n",
              "          document.querySelector('#df-178e004d-3f05-4c9b-b248-257f98055eae button.colab-df-convert');\n",
              "        buttonEl.style.display =\n",
              "          google.colab.kernel.accessAllowed ? 'block' : 'none';\n",
              "\n",
              "        async function convertToInteractive(key) {\n",
              "          const element = document.querySelector('#df-178e004d-3f05-4c9b-b248-257f98055eae');\n",
              "          const dataTable =\n",
              "            await google.colab.kernel.invokeFunction('convertToInteractive',\n",
              "                                                     [key], {});\n",
              "          if (!dataTable) return;\n",
              "\n",
              "          const docLinkHtml = 'Like what you see? Visit the ' +\n",
              "            '<a target=\"_blank\" href=https://colab.research.google.com/notebooks/data_table.ipynb>data table notebook</a>'\n",
              "            + ' to learn more about interactive tables.';\n",
              "          element.innerHTML = '';\n",
              "          dataTable['output_type'] = 'display_data';\n",
              "          await google.colab.output.renderOutput(dataTable, element);\n",
              "          const docLink = document.createElement('div');\n",
              "          docLink.innerHTML = docLinkHtml;\n",
              "          element.appendChild(docLink);\n",
              "        }\n",
              "      </script>\n",
              "    </div>\n",
              "  </div>\n",
              "  "
            ]
          },
          "metadata": {},
          "execution_count": 9
        }
      ]
    },
    {
      "cell_type": "code",
      "source": [
        "df.groupby(['Stream'])['Weight'].sum()"
      ],
      "metadata": {
        "id": "YFtJ-VvqeTZN",
        "colab": {
          "base_uri": "https://localhost:8080/"
        },
        "outputId": "ac219c7e-96d4-48fe-9fb8-7174238cbe69"
      },
      "execution_count": 10,
      "outputs": [
        {
          "output_type": "execute_result",
          "data": {
            "text/plain": [
              "Stream\n",
              "Compost                    198.5\n",
              "Compost in Landfill         70.0\n",
              "Compost in Recycling        40.1\n",
              "Food Waste in Compost      239.9\n",
              "Food Waste in Landfill     159.8\n",
              "Food Waste in Recycling     21.2\n",
              "Landfill                   102.7\n",
              "Landfill in Compost         29.9\n",
              "Landfill in Recycling       26.1\n",
              "Recycling                  191.3\n",
              "Recycling in Compost        34.3\n",
              "Recycling in Landfill       50.0\n",
              "Reusables in Landfill        2.0\n",
              "Name: Weight, dtype: float64"
            ]
          },
          "metadata": {},
          "execution_count": 10
        }
      ]
    },
    {
      "cell_type": "markdown",
      "source": [
        "## **2. Feature Engineering**"
      ],
      "metadata": {
        "id": "baNvghr5SZDb"
      }
    },
    {
      "cell_type": "code",
      "source": [
        "df['Trash Sorted'] = df['Stream'].apply(lambda x: 'Yes' if ' in ' not in str(x) else 'No')"
      ],
      "metadata": {
        "id": "Ku6aUhv8DD4q"
      },
      "execution_count": 11,
      "outputs": []
    },
    {
      "cell_type": "code",
      "source": [
        "df.loc[df['Stream']=='Food Waste in Compost','Trash Sorted'] = 'Yes'"
      ],
      "metadata": {
        "id": "c-SOnFQ5VzKR"
      },
      "execution_count": 12,
      "outputs": []
    },
    {
      "cell_type": "code",
      "source": [
        "df['True Category'] = df['Stream'].apply(lambda x: \"Compost\" if str(x).startswith(\"Food\") else x.split(\" in\")[0].strip() if ' in ' in str(x) else x)\n",
        "\n",
        "df['Category'] = df['Stream'].apply(lambda x: x.split(\" in\")[-1].strip() if ' in ' in str(x) else x)"
      ],
      "metadata": {
        "id": "KVB2prQGeEP3"
      },
      "execution_count": 13,
      "outputs": []
    },
    {
      "cell_type": "code",
      "source": [
        "df.head()"
      ],
      "metadata": {
        "colab": {
          "base_uri": "https://localhost:8080/",
          "height": 206
        },
        "id": "4P4ZKXik06el",
        "outputId": "4298d58b-e863-4ff6-e6f8-af2d3a107664"
      },
      "execution_count": 14,
      "outputs": [
        {
          "output_type": "execute_result",
          "data": {
            "text/plain": [
              "   Data Year      Date Building                  Stream  Weight  \\\n",
              "0       2018  2/8/2019     Swig                Landfill     0.3   \n",
              "1       2018  2/8/2019     Swig     Compost in Landfill     0.5   \n",
              "2       2018  2/8/2019     Swig   Recycling in Landfill     0.1   \n",
              "3       2018  2/8/2019     Swig  Food Waste in Landfill     0.1   \n",
              "4       2018  2/8/2019     Swig  Food Waste in Landfill     5.7   \n",
              "\n",
              "                    Notes Trash Sorted True Category  Category  \n",
              "0           food wrappers          Yes      Landfill  Landfill  \n",
              "1         food containers           No       Compost  Landfill  \n",
              "2             mail, paper           No     Recycling  Landfill  \n",
              "3  chicken nuggets, bread           No       Compost  Landfill  \n",
              "4      fruits and veggies           No       Compost  Landfill  "
            ],
            "text/html": [
              "\n",
              "  <div id=\"df-e43c8854-6af5-4201-bb57-1f4f6ebe6f9d\">\n",
              "    <div class=\"colab-df-container\">\n",
              "      <div>\n",
              "<style scoped>\n",
              "    .dataframe tbody tr th:only-of-type {\n",
              "        vertical-align: middle;\n",
              "    }\n",
              "\n",
              "    .dataframe tbody tr th {\n",
              "        vertical-align: top;\n",
              "    }\n",
              "\n",
              "    .dataframe thead th {\n",
              "        text-align: right;\n",
              "    }\n",
              "</style>\n",
              "<table border=\"1\" class=\"dataframe\">\n",
              "  <thead>\n",
              "    <tr style=\"text-align: right;\">\n",
              "      <th></th>\n",
              "      <th>Data Year</th>\n",
              "      <th>Date</th>\n",
              "      <th>Building</th>\n",
              "      <th>Stream</th>\n",
              "      <th>Weight</th>\n",
              "      <th>Notes</th>\n",
              "      <th>Trash Sorted</th>\n",
              "      <th>True Category</th>\n",
              "      <th>Category</th>\n",
              "    </tr>\n",
              "  </thead>\n",
              "  <tbody>\n",
              "    <tr>\n",
              "      <th>0</th>\n",
              "      <td>2018</td>\n",
              "      <td>2/8/2019</td>\n",
              "      <td>Swig</td>\n",
              "      <td>Landfill</td>\n",
              "      <td>0.3</td>\n",
              "      <td>food wrappers</td>\n",
              "      <td>Yes</td>\n",
              "      <td>Landfill</td>\n",
              "      <td>Landfill</td>\n",
              "    </tr>\n",
              "    <tr>\n",
              "      <th>1</th>\n",
              "      <td>2018</td>\n",
              "      <td>2/8/2019</td>\n",
              "      <td>Swig</td>\n",
              "      <td>Compost in Landfill</td>\n",
              "      <td>0.5</td>\n",
              "      <td>food containers</td>\n",
              "      <td>No</td>\n",
              "      <td>Compost</td>\n",
              "      <td>Landfill</td>\n",
              "    </tr>\n",
              "    <tr>\n",
              "      <th>2</th>\n",
              "      <td>2018</td>\n",
              "      <td>2/8/2019</td>\n",
              "      <td>Swig</td>\n",
              "      <td>Recycling in Landfill</td>\n",
              "      <td>0.1</td>\n",
              "      <td>mail, paper</td>\n",
              "      <td>No</td>\n",
              "      <td>Recycling</td>\n",
              "      <td>Landfill</td>\n",
              "    </tr>\n",
              "    <tr>\n",
              "      <th>3</th>\n",
              "      <td>2018</td>\n",
              "      <td>2/8/2019</td>\n",
              "      <td>Swig</td>\n",
              "      <td>Food Waste in Landfill</td>\n",
              "      <td>0.1</td>\n",
              "      <td>chicken nuggets, bread</td>\n",
              "      <td>No</td>\n",
              "      <td>Compost</td>\n",
              "      <td>Landfill</td>\n",
              "    </tr>\n",
              "    <tr>\n",
              "      <th>4</th>\n",
              "      <td>2018</td>\n",
              "      <td>2/8/2019</td>\n",
              "      <td>Swig</td>\n",
              "      <td>Food Waste in Landfill</td>\n",
              "      <td>5.7</td>\n",
              "      <td>fruits and veggies</td>\n",
              "      <td>No</td>\n",
              "      <td>Compost</td>\n",
              "      <td>Landfill</td>\n",
              "    </tr>\n",
              "  </tbody>\n",
              "</table>\n",
              "</div>\n",
              "      <button class=\"colab-df-convert\" onclick=\"convertToInteractive('df-e43c8854-6af5-4201-bb57-1f4f6ebe6f9d')\"\n",
              "              title=\"Convert this dataframe to an interactive table.\"\n",
              "              style=\"display:none;\">\n",
              "        \n",
              "  <svg xmlns=\"http://www.w3.org/2000/svg\" height=\"24px\"viewBox=\"0 0 24 24\"\n",
              "       width=\"24px\">\n",
              "    <path d=\"M0 0h24v24H0V0z\" fill=\"none\"/>\n",
              "    <path d=\"M18.56 5.44l.94 2.06.94-2.06 2.06-.94-2.06-.94-.94-2.06-.94 2.06-2.06.94zm-11 1L8.5 8.5l.94-2.06 2.06-.94-2.06-.94L8.5 2.5l-.94 2.06-2.06.94zm10 10l.94 2.06.94-2.06 2.06-.94-2.06-.94-.94-2.06-.94 2.06-2.06.94z\"/><path d=\"M17.41 7.96l-1.37-1.37c-.4-.4-.92-.59-1.43-.59-.52 0-1.04.2-1.43.59L10.3 9.45l-7.72 7.72c-.78.78-.78 2.05 0 2.83L4 21.41c.39.39.9.59 1.41.59.51 0 1.02-.2 1.41-.59l7.78-7.78 2.81-2.81c.8-.78.8-2.07 0-2.86zM5.41 20L4 18.59l7.72-7.72 1.47 1.35L5.41 20z\"/>\n",
              "  </svg>\n",
              "      </button>\n",
              "      \n",
              "  <style>\n",
              "    .colab-df-container {\n",
              "      display:flex;\n",
              "      flex-wrap:wrap;\n",
              "      gap: 12px;\n",
              "    }\n",
              "\n",
              "    .colab-df-convert {\n",
              "      background-color: #E8F0FE;\n",
              "      border: none;\n",
              "      border-radius: 50%;\n",
              "      cursor: pointer;\n",
              "      display: none;\n",
              "      fill: #1967D2;\n",
              "      height: 32px;\n",
              "      padding: 0 0 0 0;\n",
              "      width: 32px;\n",
              "    }\n",
              "\n",
              "    .colab-df-convert:hover {\n",
              "      background-color: #E2EBFA;\n",
              "      box-shadow: 0px 1px 2px rgba(60, 64, 67, 0.3), 0px 1px 3px 1px rgba(60, 64, 67, 0.15);\n",
              "      fill: #174EA6;\n",
              "    }\n",
              "\n",
              "    [theme=dark] .colab-df-convert {\n",
              "      background-color: #3B4455;\n",
              "      fill: #D2E3FC;\n",
              "    }\n",
              "\n",
              "    [theme=dark] .colab-df-convert:hover {\n",
              "      background-color: #434B5C;\n",
              "      box-shadow: 0px 1px 3px 1px rgba(0, 0, 0, 0.15);\n",
              "      filter: drop-shadow(0px 1px 2px rgba(0, 0, 0, 0.3));\n",
              "      fill: #FFFFFF;\n",
              "    }\n",
              "  </style>\n",
              "\n",
              "      <script>\n",
              "        const buttonEl =\n",
              "          document.querySelector('#df-e43c8854-6af5-4201-bb57-1f4f6ebe6f9d button.colab-df-convert');\n",
              "        buttonEl.style.display =\n",
              "          google.colab.kernel.accessAllowed ? 'block' : 'none';\n",
              "\n",
              "        async function convertToInteractive(key) {\n",
              "          const element = document.querySelector('#df-e43c8854-6af5-4201-bb57-1f4f6ebe6f9d');\n",
              "          const dataTable =\n",
              "            await google.colab.kernel.invokeFunction('convertToInteractive',\n",
              "                                                     [key], {});\n",
              "          if (!dataTable) return;\n",
              "\n",
              "          const docLinkHtml = 'Like what you see? Visit the ' +\n",
              "            '<a target=\"_blank\" href=https://colab.research.google.com/notebooks/data_table.ipynb>data table notebook</a>'\n",
              "            + ' to learn more about interactive tables.';\n",
              "          element.innerHTML = '';\n",
              "          dataTable['output_type'] = 'display_data';\n",
              "          await google.colab.output.renderOutput(dataTable, element);\n",
              "          const docLink = document.createElement('div');\n",
              "          docLink.innerHTML = docLinkHtml;\n",
              "          element.appendChild(docLink);\n",
              "        }\n",
              "      </script>\n",
              "    </div>\n",
              "  </div>\n",
              "  "
            ]
          },
          "metadata": {},
          "execution_count": 14
        }
      ]
    },
    {
      "cell_type": "code",
      "source": [
        "df.groupby(['True Category'])['Weight'].sum()"
      ],
      "metadata": {
        "colab": {
          "base_uri": "https://localhost:8080/"
        },
        "id": "HDC_woJkImpb",
        "outputId": "84bf7276-31bd-4ff4-ac9e-8594ff448b78"
      },
      "execution_count": 15,
      "outputs": [
        {
          "output_type": "execute_result",
          "data": {
            "text/plain": [
              "True Category\n",
              "Compost      729.5\n",
              "Landfill     158.7\n",
              "Recycling    275.6\n",
              "Reusables      2.0\n",
              "Name: Weight, dtype: float64"
            ]
          },
          "metadata": {},
          "execution_count": 15
        }
      ]
    },
    {
      "cell_type": "code",
      "source": [
        "df.loc[df['Category']==df['True Category'],'Trash Sorted'] = 'Yes'\n",
        "df.loc[df['Category']!=df['True Category'],'Trash Sorted'] = 'No'"
      ],
      "metadata": {
        "id": "yR3RhFSqiRzQ"
      },
      "execution_count": 16,
      "outputs": []
    },
    {
      "cell_type": "code",
      "source": [
        "df.drop(df[(df['True Category'] == \"Reusables\")].index, inplace=True)"
      ],
      "metadata": {
        "id": "cjPRB2majPUd"
      },
      "execution_count": 17,
      "outputs": []
    },
    {
      "cell_type": "code",
      "source": [
        "df.groupby(['Trash Sorted'])['Weight'].sum()"
      ],
      "metadata": {
        "colab": {
          "base_uri": "https://localhost:8080/"
        },
        "id": "4ja9GG6sigSu",
        "outputId": "73353cb6-f7f0-4d21-fc1e-d274db99553f"
      },
      "execution_count": 18,
      "outputs": [
        {
          "output_type": "execute_result",
          "data": {
            "text/plain": [
              "Trash Sorted\n",
              "No     431.4\n",
              "Yes    732.4\n",
              "Name: Weight, dtype: float64"
            ]
          },
          "metadata": {},
          "execution_count": 18
        }
      ]
    },
    {
      "cell_type": "code",
      "source": [
        "df.groupby(['True Category','Trash Sorted'])['Weight'].sum().unstack(fill_value=0)"
      ],
      "metadata": {
        "colab": {
          "base_uri": "https://localhost:8080/",
          "height": 175
        },
        "id": "hCa8ncFs-b0d",
        "outputId": "60ba5e1e-59d6-4f66-9ef5-cf70b5ad6aa0"
      },
      "execution_count": 20,
      "outputs": [
        {
          "output_type": "execute_result",
          "data": {
            "text/plain": [
              "Trash Sorted      No    Yes\n",
              "True Category              \n",
              "Compost        291.1  438.4\n",
              "Landfill        56.0  102.7\n",
              "Recycling       84.3  191.3"
            ],
            "text/html": [
              "\n",
              "  <div id=\"df-9560c582-fa9a-405b-9fa0-f0b43a08acdd\">\n",
              "    <div class=\"colab-df-container\">\n",
              "      <div>\n",
              "<style scoped>\n",
              "    .dataframe tbody tr th:only-of-type {\n",
              "        vertical-align: middle;\n",
              "    }\n",
              "\n",
              "    .dataframe tbody tr th {\n",
              "        vertical-align: top;\n",
              "    }\n",
              "\n",
              "    .dataframe thead th {\n",
              "        text-align: right;\n",
              "    }\n",
              "</style>\n",
              "<table border=\"1\" class=\"dataframe\">\n",
              "  <thead>\n",
              "    <tr style=\"text-align: right;\">\n",
              "      <th>Trash Sorted</th>\n",
              "      <th>No</th>\n",
              "      <th>Yes</th>\n",
              "    </tr>\n",
              "    <tr>\n",
              "      <th>True Category</th>\n",
              "      <th></th>\n",
              "      <th></th>\n",
              "    </tr>\n",
              "  </thead>\n",
              "  <tbody>\n",
              "    <tr>\n",
              "      <th>Compost</th>\n",
              "      <td>291.1</td>\n",
              "      <td>438.4</td>\n",
              "    </tr>\n",
              "    <tr>\n",
              "      <th>Landfill</th>\n",
              "      <td>56.0</td>\n",
              "      <td>102.7</td>\n",
              "    </tr>\n",
              "    <tr>\n",
              "      <th>Recycling</th>\n",
              "      <td>84.3</td>\n",
              "      <td>191.3</td>\n",
              "    </tr>\n",
              "  </tbody>\n",
              "</table>\n",
              "</div>\n",
              "      <button class=\"colab-df-convert\" onclick=\"convertToInteractive('df-9560c582-fa9a-405b-9fa0-f0b43a08acdd')\"\n",
              "              title=\"Convert this dataframe to an interactive table.\"\n",
              "              style=\"display:none;\">\n",
              "        \n",
              "  <svg xmlns=\"http://www.w3.org/2000/svg\" height=\"24px\"viewBox=\"0 0 24 24\"\n",
              "       width=\"24px\">\n",
              "    <path d=\"M0 0h24v24H0V0z\" fill=\"none\"/>\n",
              "    <path d=\"M18.56 5.44l.94 2.06.94-2.06 2.06-.94-2.06-.94-.94-2.06-.94 2.06-2.06.94zm-11 1L8.5 8.5l.94-2.06 2.06-.94-2.06-.94L8.5 2.5l-.94 2.06-2.06.94zm10 10l.94 2.06.94-2.06 2.06-.94-2.06-.94-.94-2.06-.94 2.06-2.06.94z\"/><path d=\"M17.41 7.96l-1.37-1.37c-.4-.4-.92-.59-1.43-.59-.52 0-1.04.2-1.43.59L10.3 9.45l-7.72 7.72c-.78.78-.78 2.05 0 2.83L4 21.41c.39.39.9.59 1.41.59.51 0 1.02-.2 1.41-.59l7.78-7.78 2.81-2.81c.8-.78.8-2.07 0-2.86zM5.41 20L4 18.59l7.72-7.72 1.47 1.35L5.41 20z\"/>\n",
              "  </svg>\n",
              "      </button>\n",
              "      \n",
              "  <style>\n",
              "    .colab-df-container {\n",
              "      display:flex;\n",
              "      flex-wrap:wrap;\n",
              "      gap: 12px;\n",
              "    }\n",
              "\n",
              "    .colab-df-convert {\n",
              "      background-color: #E8F0FE;\n",
              "      border: none;\n",
              "      border-radius: 50%;\n",
              "      cursor: pointer;\n",
              "      display: none;\n",
              "      fill: #1967D2;\n",
              "      height: 32px;\n",
              "      padding: 0 0 0 0;\n",
              "      width: 32px;\n",
              "    }\n",
              "\n",
              "    .colab-df-convert:hover {\n",
              "      background-color: #E2EBFA;\n",
              "      box-shadow: 0px 1px 2px rgba(60, 64, 67, 0.3), 0px 1px 3px 1px rgba(60, 64, 67, 0.15);\n",
              "      fill: #174EA6;\n",
              "    }\n",
              "\n",
              "    [theme=dark] .colab-df-convert {\n",
              "      background-color: #3B4455;\n",
              "      fill: #D2E3FC;\n",
              "    }\n",
              "\n",
              "    [theme=dark] .colab-df-convert:hover {\n",
              "      background-color: #434B5C;\n",
              "      box-shadow: 0px 1px 3px 1px rgba(0, 0, 0, 0.15);\n",
              "      filter: drop-shadow(0px 1px 2px rgba(0, 0, 0, 0.3));\n",
              "      fill: #FFFFFF;\n",
              "    }\n",
              "  </style>\n",
              "\n",
              "      <script>\n",
              "        const buttonEl =\n",
              "          document.querySelector('#df-9560c582-fa9a-405b-9fa0-f0b43a08acdd button.colab-df-convert');\n",
              "        buttonEl.style.display =\n",
              "          google.colab.kernel.accessAllowed ? 'block' : 'none';\n",
              "\n",
              "        async function convertToInteractive(key) {\n",
              "          const element = document.querySelector('#df-9560c582-fa9a-405b-9fa0-f0b43a08acdd');\n",
              "          const dataTable =\n",
              "            await google.colab.kernel.invokeFunction('convertToInteractive',\n",
              "                                                     [key], {});\n",
              "          if (!dataTable) return;\n",
              "\n",
              "          const docLinkHtml = 'Like what you see? Visit the ' +\n",
              "            '<a target=\"_blank\" href=https://colab.research.google.com/notebooks/data_table.ipynb>data table notebook</a>'\n",
              "            + ' to learn more about interactive tables.';\n",
              "          element.innerHTML = '';\n",
              "          dataTable['output_type'] = 'display_data';\n",
              "          await google.colab.output.renderOutput(dataTable, element);\n",
              "          const docLink = document.createElement('div');\n",
              "          docLink.innerHTML = docLinkHtml;\n",
              "          element.appendChild(docLink);\n",
              "        }\n",
              "      </script>\n",
              "    </div>\n",
              "  </div>\n",
              "  "
            ]
          },
          "metadata": {},
          "execution_count": 20
        }
      ]
    },
    {
      "cell_type": "markdown",
      "source": [
        "### 3. Visualizing Data"
      ],
      "metadata": {
        "id": "0S39xWTdXl8Z"
      }
    },
    {
      "cell_type": "code",
      "source": [
        "import numpy as np\n",
        "import matplotlib.pyplot as plt\n",
        "\n",
        "streams = list(dict(df.groupby('True Category')['Weight'].sum()).keys())\n",
        "df2 = df.loc[df['Trash Sorted'] == 'Yes']\n",
        "sorted = list(dict(df2.groupby(['True Category'])['Weight'].sum()).values())\n",
        "df2 = df.loc[df['Trash Sorted'] == 'No']\n",
        "unsorted = list(dict(df2.groupby(['True Category'])['Weight'].sum()).values())\n",
        "p_df = list(sorted)\n",
        "p_df2 = list(unsorted)\n",
        "for i in range(len(sorted)):\n",
        "  p_df[i] = (100*sorted[i])/(sorted[i]+unsorted[i])\n",
        "  p_df2[i] = (100*unsorted[i])/(sorted[i]+unsorted[i])\n",
        "  \n",
        "X_axis = np.arange(len(streams))\n",
        "  \n",
        "plt.bar(X_axis - 0.2, p_df, 0.2, label = 'Sorted')\n",
        "plt.bar(X_axis + 0.2, p_df2, 0.2, label = 'Unsorted')\n",
        "  \n",
        "plt.xticks(X_axis, streams)\n",
        "plt.xlabel(\"Trash Stream\")\n",
        "plt.ylabel(\"Percentage\")\n",
        "plt.title(\"Percentage of trash sorted vs unsorted grouped by stream\")\n",
        "plt.legend()\n",
        "plt.show()"
      ],
      "metadata": {
        "colab": {
          "base_uri": "https://localhost:8080/",
          "height": 472
        },
        "id": "-mqVh8aq08cK",
        "outputId": "e1576bbd-e4a2-4f20-8462-5d82c22c2fe7"
      },
      "execution_count": 34,
      "outputs": [
        {
          "output_type": "display_data",
          "data": {
            "text/plain": [
              "<Figure size 640x480 with 1 Axes>"
            ],
            "image/png": "[encoded data removed]"
          },
          "metadata": {}
        }
      ]
    },
    {
      "cell_type": "code",
      "source": [
        "data = dict(df.groupby(['Trash Sorted'])['Weight'].sum())\n",
        "\n",
        "courses = list(data.keys())\n",
        "values = list(data.values())\n",
        "\n",
        "sum = df['Weight'].sum()\n",
        "for i in range(len(courses)):\n",
        "  values[i] = 100*values[i]/sum\n",
        "fig = plt.figure(figsize = (10, 5))\n",
        " \n",
        "plt.bar(courses, values,\n",
        "        width = 0.4)\n",
        " \n",
        "plt.xlabel(\"Trash Sorted\")\n",
        "plt.ylabel(\"Percentage\")\n",
        "plt.title(\"Percentage of trash sorted vs not sorted\")\n",
        "plt.show()\n"
      ],
      "metadata": {
        "colab": {
          "base_uri": "https://localhost:8080/",
          "height": 487
        },
        "id": "XEK9HbDTlxSb",
        "outputId": "99cdfa20-6ca7-498d-8ce3-b3bedca8ed19"
      },
      "execution_count": 33,
      "outputs": [
        {
          "output_type": "display_data",
          "data": {
            "text/plain": [
              "<Figure size 1000x500 with 1 Axes>"
            ],
            "image/png": "[encoded data removed]"
          },
          "metadata": {}
        }
      ]
    },
    {
      "cell_type": "markdown",
      "source": [
        "##**4. Values Grouped by Building for each Stream**"
      ],
      "metadata": {
        "id": "bkwwTVuzXWkV"
      }
    },
    {
      "cell_type": "code",
      "source": [
        "df[df['True Category']=='Compost'].groupby(['Building','Trash Sorted'])['Weight'].sum()"
      ],
      "metadata": {
        "colab": {
          "base_uri": "https://localhost:8080/"
        },
        "id": "IbMein77lFhR",
        "outputId": "0351ebbb-ea75-46b1-bcb6-7a829de7f7c6"
      },
      "execution_count": 28,
      "outputs": [
        {
          "output_type": "execute_result",
          "data": {
            "text/plain": [
              "Building  Trash Sorted\n",
              "Campisi   No                4.5\n",
              "          Yes               9.7\n",
              "Dunne     No                9.6\n",
              "          Yes               8.9\n",
              "Graham    No              158.7\n",
              "          Yes             255.8\n",
              "McWalsh   No               18.4\n",
              "          Yes              26.8\n",
              "Swig      No               99.9\n",
              "          Yes             137.2\n",
              "Name: Weight, dtype: float64"
            ]
          },
          "metadata": {},
          "execution_count": 28
        }
      ]
    },
    {
      "cell_type": "code",
      "source": [
        "df[df['True Category']=='Landfill'].groupby(['Building','Trash Sorted'])['Weight'].sum()"
      ],
      "metadata": {
        "colab": {
          "base_uri": "https://localhost:8080/"
        },
        "id": "BW7DgfJKFQGW",
        "outputId": "a008772d-dacb-4d80-fc5f-3ff0467b85fc"
      },
      "execution_count": 31,
      "outputs": [
        {
          "output_type": "execute_result",
          "data": {
            "text/plain": [
              "Building  Trash Sorted\n",
              "Campisi   No               0.5\n",
              "          Yes              2.7\n",
              "Dunne     No               1.8\n",
              "          Yes              2.8\n",
              "Graham    No              37.1\n",
              "          Yes             63.7\n",
              "McWalsh   No               1.5\n",
              "          Yes              4.0\n",
              "Swig      No              15.1\n",
              "          Yes             29.5\n",
              "Name: Weight, dtype: float64"
            ]
          },
          "metadata": {},
          "execution_count": 31
        }
      ]
    },
    {
      "cell_type": "code",
      "source": [
        "df[df['True Category']=='Recycling'].groupby(['Building','Trash Sorted'])['Weight'].sum()"
      ],
      "metadata": {
        "colab": {
          "base_uri": "https://localhost:8080/"
        },
        "id": "LirttnvURHyU",
        "outputId": "a6e67642-8389-43ec-9130-83ce60fa1357"
      },
      "execution_count": 32,
      "outputs": [
        {
          "output_type": "execute_result",
          "data": {
            "text/plain": [
              "Building  Trash Sorted\n",
              "Campisi   No               4.3\n",
              "          Yes             15.0\n",
              "Dunne     No               1.1\n",
              "          Yes              9.9\n",
              "Graham    No              48.2\n",
              "          Yes             84.5\n",
              "McWalsh   No               5.2\n",
              "          Yes             11.0\n",
              "Swig      No              25.5\n",
              "          Yes             70.9\n",
              "Name: Weight, dtype: float64"
            ]
          },
          "metadata": {},
          "execution_count": 32
        }
      ]
    }
  ]
}
